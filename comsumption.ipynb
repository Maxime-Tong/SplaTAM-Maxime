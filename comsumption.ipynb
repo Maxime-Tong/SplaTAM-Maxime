{
 "cells": [
  {
   "cell_type": "markdown",
   "id": "9ccf5d3c",
   "metadata": {},
   "source": [
    "## Number of energy consumption\n",
    "For each gaussian:\n",
    "- `preprocessCUDA`: 151 MACs\n",
    "For each elem:\n",
    "- `radix sort`: 24 MACs\n",
    "For each pixel:\n",
    "- `render`: 3 + r * (1 + 256 * 14) + 2 * 3 = 9 + r * 3585\n",
    "## Basic Information\n",
    "width: 1200\n",
    "height: 680\n",
    "\n",
    "Mapping step 5:\n",
    "tile.x, tile.y = 75, 43\n",
    "num_sort = 23463167\n",
    "P = 867364\n",
    "mean rounds: 2.9\n",
    "visible gaussians = 833384\n",
    "\n",
    "## Metrics\n",
    "Original for frames 30:\n",
    "\n",
    "- Final Average ATE RMSE: 0.04 cm\n",
    "- Average PSNR: 40.63\n",
    "- Average Depth RMSE: 0.18 cm\n",
    "- Average Depth L1: 0.18 cm\n",
    "- Average MS-SSIM: 0.996\n",
    "- Average LPIPS: 0.024"
   ]
  },
  {
   "cell_type": "code",
   "execution_count": null,
   "id": "bf3f1f99",
   "metadata": {},
   "outputs": [],
   "source": [
    "tile_x, tile_y = 75, 43\n",
    "block_size = 256\n",
    "e = 0.5 # pj/MAC\n",
    "\n",
    "# Mapping step 5:\n",
    "sort_size = 23463167\n",
    "P = 867364\n",
    "visible_gaussians = 833384\n",
    "mean_rounds = 2.9\n",
    "\n",
    "preprocess = 151 * visible_gaussians\n",
    "radix_sort = 24 * sort_size\n",
    "render =  (3 + mean_rounds * (1 + block_size * 14) + 2 * 3) * block_size * tile_x * tile_y\n",
    "\n",
    "print(f\"Preprocess: {preprocess * e / 1e6:.2f} muj\")\n",
    "print(f\"Radix sort: {radix_sort * e / 1e6:.2f} muj\")\n",
    "print(f\"Render: {render * e / 1e6:.2f} muj\")\n",
    "print(f\"Total: {(preprocess + radix_sort + render) * e / 1e6:.2f} muj\")\n"
   ]
  },
  {
   "cell_type": "markdown",
   "id": "49f76570",
   "metadata": {},
   "source": [
    "# Test image descriptor match algorithms"
   ]
  },
  {
   "cell_type": "code",
   "execution_count": 1,
   "id": "9febd5e1",
   "metadata": {},
   "outputs": [],
   "source": [
    "import os\n",
    "import re\n",
    "import pandas as pd\n",
    "\n",
    "log_dir = \"/home/xthuang/code/slam/SplaTAM-Maxime/logs\"\n",
    "psnr_pattern = r'Average PSNR: (\\d+\\.\\d+)'\n",
    "ATE_rmse_pattern = r'Final Average ATE RMSE: (\\d+\\.\\d+) cm'\n",
    "\n",
    "res = {}\n",
    "scenes = [\"room0\", \"room1\", \"room2\",\n",
    "        \"office0\", \"office1\", \"office2\",\n",
    "        \"office_3\", \"office4\"]\n",
    "rows = set()\n",
    "\n",
    "for file in os.listdir(log_dir):\n",
    "    log_file = os.path.join(log_dir, file)\n",
    "    splits = file.split('_')\n",
    "    dataset_id = int(splits[-1][:-4])\n",
    "    dataset = scenes[dataset_id]\n",
    "    method = '_'.join(splits[:-1])\n",
    "    \n",
    "    with open(log_file, 'r') as f:\n",
    "        for line in f.readlines()[-10:]:\n",
    "            psnr_match = re.search(psnr_pattern, line)\n",
    "            if psnr_match:\n",
    "                psnr = float(psnr_match.group(1))\n",
    "            \n",
    "            ATE_rmse_match = re.search(ATE_rmse_pattern, line)\n",
    "            if ATE_rmse_match:\n",
    "                ATE_rmse = float(ATE_rmse_match.group(1))\n",
    "    \n",
    "    if dataset+'_rmse' not in res:\n",
    "        res[dataset+\"_psnr\"] = {}\n",
    "        res[dataset+\"_rmse\"] = {}\n",
    "    res[dataset+\"_rmse\"][method] = ATE_rmse\n",
    "    res[dataset+\"_psnr\"][method] = psnr\n",
    "    \n",
    "    rows.add(method)\n",
    "df = pd.DataFrame(index=list(rows), columns=sorted(res.keys()))\n",
    "for col in res:\n",
    "    for row in res[col]:\n",
    "        df.loc[row, col] = res[col][row]\n",
    "        \n",
    "df.to_csv(\"output.csv\")\n",
    "    "
   ]
  }
 ],
 "metadata": {
  "kernelspec": {
   "display_name": "splatam",
   "language": "python",
   "name": "python3"
  },
  "language_info": {
   "codemirror_mode": {
    "name": "ipython",
    "version": 3
   },
   "file_extension": ".py",
   "mimetype": "text/x-python",
   "name": "python",
   "nbconvert_exporter": "python",
   "pygments_lexer": "ipython3",
   "version": "3.10.16"
  }
 },
 "nbformat": 4,
 "nbformat_minor": 5
}
